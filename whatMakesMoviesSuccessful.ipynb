{
 "cells": [
  {
   "cell_type": "markdown",
   "id": "4ff83e85",
   "metadata": {
    "papermill": {
     "duration": 0.006264,
     "end_time": "2024-02-22T01:22:34.506541",
     "exception": false,
     "start_time": "2024-02-22T01:22:34.500277",
     "status": "completed"
    },
    "tags": []
   },
   "source": [
    "# What makes a movie successful?\n",
    "\n",
    "## Ask \n",
    "### About (Business Task)\n",
    "\n",
    "The biggest blockbusters in movie history have made millions of dollars worldwide. \n",
    "\n",
    "Let\\'s define these concepts first:\n",
    "\n",
    "- Box office hits (aka blockbusters): movies that make millions of dollars because many people go to watch them on theaters.\n",
    "- Return on investment: The number of times the movie budget is recovered.\n",
    "\n",
    "Let\\'s analyze the data of the top 500 box office hits from 1939 to October 2023 to find out what makes a movie successful.\n",
    "\n",
    "### Objective\n",
    "Get to know the elements that successful movies have in common.\n",
    "\n",
    "## Steps to complete this case study\n",
    "* Ask: Understand the business task.\n",
    "* Prepare: Get the data, check sources, license and content, organize it in a dataframe.\n",
    "* Process: Choose tool, and document the process. Clean data, check for consistency, remove what we don't need.\n",
    "* Analyze: By different categories. Create visualizations to see trends and understand data more clearly.\n",
    "* Share: findings in presentation.\n",
    "* Act: share recommendations and next steps.\n",
    "\n",
    "## Prepare\n",
    "### Sources\n",
    "\n",
    "I first saw the dataset [here](https://informationisbeautiful.net/data), and then I got the data from the [stated source](https://www.boxofficemojo.com/chart/ww_top_lifetime_gross) and created another spreadsheet. The movie ratings and budgets were available at [IMDb](https://www.imdb.com/) and the ones that weren't available there, were found [here](https://www.the-numbers.com) and on [link](https://www.wikipedia.org).\n",
    "\n",
    "The dataframe contains the movies' rank (position within the 500 box office hits), title, year released (from 1939 to 2023), decade released, domestic gross profit in dollars, domestic profit in percentage, foreign gross profit, foreign profit in terms of percentage, worldwide gross profit, budget in dollars, budget recovered in terms of percentage, number of times the budget was recovered, running time, and rating. \n",
    "\n",
    "It\\'s made available by IMDb under the stated [license](https://www.imdb.com/conditions). No personally identifiable information is used.\n",
    "\n",
    "I followed the next steps to ensure the data's integrity:\n"
   ]
  },
  {
   "cell_type": "code",
   "execution_count": 1,
   "id": "8e6d1ee3",
   "metadata": {
    "_cell_guid": "b1076dfc-b9ad-4769-8c92-a6c4dae69d19",
    "_kg_hide-input": true,
    "_kg_hide-output": false,
    "_uuid": "8f2839f25d086af736a60e9eeb907d3b93b6e0e5",
    "execution": {
     "iopub.execute_input": "2024-02-22T01:22:34.521481Z",
     "iopub.status.busy": "2024-02-22T01:22:34.520901Z",
     "iopub.status.idle": "2024-02-22T01:22:37.303392Z",
     "shell.execute_reply": "2024-02-22T01:22:37.301789Z"
    },
    "papermill": {
     "duration": 2.792875,
     "end_time": "2024-02-22T01:22:37.306252",
     "exception": false,
     "start_time": "2024-02-22T01:22:34.513377",
     "status": "completed"
    },
    "tags": []
   },
   "outputs": [
    {
     "name": "stdout",
     "output_type": "stream",
     "text": [
      "<class 'pandas.core.frame.DataFrame'>\n",
      "RangeIndex: 500 entries, 0 to 499\n",
      "Data columns (total 14 columns):\n",
      " #   Column                  Non-Null Count  Dtype  \n",
      "---  ------                  --------------  -----  \n",
      " 0   rank                    500 non-null    int64  \n",
      " 1   title                   500 non-null    object \n",
      " 2   year                    500 non-null    int64  \n",
      " 3   decade                  500 non-null    object \n",
      " 4   domestic_gross          500 non-null    object \n",
      " 5   domestic_prcnt          500 non-null    object \n",
      " 6   foreign_gross           500 non-null    object \n",
      " 7   foreign_prcnt           500 non-null    object \n",
      " 8   worldwide_gross         500 non-null    object \n",
      " 9   budget                  495 non-null    object \n",
      " 10  budget_recovered_prcnt  495 non-null    object \n",
      " 11  times_budget_recovered  495 non-null    float64\n",
      " 12  running_time            500 non-null    object \n",
      " 13  rating                  500 non-null    object \n",
      "dtypes: float64(1), int64(2), object(11)\n",
      "memory usage: 54.8+ KB\n",
      "None\n"
     ]
    }
   ],
   "source": [
    "# Import needed libraries\n",
    "import pandas as pd\n",
    "import numpy as np\n",
    "import datetime as dt\n",
    "import seaborn as sns\n",
    "from pandas.api.types import CategoricalDtype\n",
    "import matplotlib.pyplot as plt\n",
    "\n",
    "# Import dataset and set index column\n",
    "df= pd.read_csv(\"Top500MoviesProfit_Simple.csv\")\n",
    "\n",
    "## Take a look at the data\n",
    "# Verify the data types of each column, and if there's null values\n",
    "print(df.info())"
   ]
  },
  {
   "cell_type": "markdown",
   "id": "68b6a417",
   "metadata": {
    "papermill": {
     "duration": 0.006804,
     "end_time": "2024-02-22T01:22:37.319523",
     "exception": false,
     "start_time": "2024-02-22T01:22:37.312719",
     "status": "completed"
    },
    "tags": []
   },
   "source": [
    "## Process\n",
    "I’m using Python because I wanted to put my knowledge into practice and I confirmed that it can it can also create nice visualizations.\n",
    "\n",
    "To clean the data, I started by cleaning the column names, then I divided the columns by data type and cleaned them accordingly. In this case, some number colums were entered as strings, so I typecasted them. After that, I checked the others for consistency. I concatenated two columns to solve a false-duplicates issue, then renamed, dropped other columns, and reordered them. "
   ]
  },
  {
   "cell_type": "code",
   "execution_count": 2,
   "id": "ef9915f2",
   "metadata": {
    "_kg_hide-input": true,
    "_kg_hide-output": false,
    "execution": {
     "iopub.execute_input": "2024-02-22T01:22:37.333902Z",
     "iopub.status.busy": "2024-02-22T01:22:37.333463Z",
     "iopub.status.idle": "2024-02-22T01:22:37.520441Z",
     "shell.execute_reply": "2024-02-22T01:22:37.518239Z"
    },
    "papermill": {
     "duration": 0.198437,
     "end_time": "2024-02-22T01:22:37.523893",
     "exception": false,
     "start_time": "2024-02-22T01:22:37.325456",
     "status": "completed"
    },
    "tags": []
   },
   "outputs": [
    {
     "name": "stdout",
     "output_type": "stream",
     "text": [
      "Index(['rank', 'title ', 'year', 'decade', 'domestic_gross', 'domestic_prcnt',\n",
      "       'foreign_gross', 'foreign_prcnt ', 'worldwide_gross', 'budget',\n",
      "       'budget_recovered_prcnt', 'times_budget_recovered', 'running_time',\n",
      "       'rating'],\n",
      "      dtype='object')\n",
      "Index(['rank', 'title', 'year', 'decade', 'domestic_gross', 'domestic_prcnt',\n",
      "       'foreign_gross', 'foreign_prcnt', 'worldwide_gross', 'budget',\n",
      "       'budget_recovered_prcnt', 'times_budget_recovered', 'duration',\n",
      "       'rating'],\n",
      "      dtype='object')\n",
      "NUMBER OF UNIQUE MOVIES:  495\n",
      "NUMBER OF MOVIES WITH DIFFERENT PROFIT:  500\n",
      "RATING CATEGORIES:  ['PG-13' 'PG' 'R' 'G' 'NR']\n",
      "MOVIE DECADES ARE WRITTEN CONSISTENTLY.\n",
      "MOVIE DECADES:  [\"2000's\" \"2010's\" \"2020's\" \"1990's\" \"1980's\" \"1970's\" \"1930's\"] \n",
      "\n",
      "NUMBER OF 'DUPLICATE' MOVIES:  5\n",
      "NUMBER OF DUPLICATE MOVIES:  0 \n",
      "\n",
      "<class 'pandas.core.frame.DataFrame'>\n",
      "RangeIndex: 500 entries, 0 to 499\n",
      "Data columns (total 8 columns):\n",
      " #   Column                  Non-Null Count  Dtype          \n",
      "---  ------                  --------------  -----          \n",
      " 0   rank                    500 non-null    int64          \n",
      " 1   title_year              500 non-null    object         \n",
      " 2   decade                  500 non-null    object         \n",
      " 3   worldwide_gross_inM     500 non-null    float64        \n",
      " 4   budget_inM              500 non-null    float64        \n",
      " 5   times_budget_recovered  495 non-null    float64        \n",
      " 6   duration                500 non-null    timedelta64[ns]\n",
      " 7   rating                  500 non-null    object         \n",
      "dtypes: float64(3), int64(1), object(3), timedelta64[ns](1)\n",
      "memory usage: 31.4+ KB\n",
      "None\n"
     ]
    }
   ],
   "source": [
    "# Start by cleaning the column names\n",
    "# See if there's whitespaces in the column names\n",
    "print(df.columns)\n",
    "\n",
    "# When applicable, rename the columns to remove whitespaces:\n",
    "df.columns = df.columns.str.replace(' ', '')\n",
    "\n",
    "# Rename running_time column to duration\n",
    "df = df.rename(columns = {\"running_time\": \"duration\"})\n",
    "\n",
    "# Verify changes where made\n",
    "print(df.columns)\n",
    "\n",
    "# Get a glimpse of the dataset\n",
    "df.head()\n",
    "\n",
    "# Columns list that need cleaning\n",
    "str_cols = ['title', 'decade', 'domestic_gross', 'domestic_prcnt', 'foreign_gross', \n",
    "            'foreign_prcnt', 'worldwide_gross', 'budget', 'budget_recovered_prcnt',\n",
    "            'duration', 'rating']\n",
    "# Columns that are numeric integers (but have string/object type)\n",
    "num_cols = ['domestic_gross', 'foreign_gross', 'worldwide_gross', 'budget']\n",
    "# Columns that are numeric percentages (but have string/object type)\n",
    "prcnt_cols = ['domestic_prcnt', 'foreign_prcnt','budget_recovered_prcnt']\n",
    "\n",
    "# Clean string columns and change data type when needed\n",
    "def clean_cols(dfName, colsList, numCols, prcntCols, suffix):\n",
    "    for colName in colsList:\n",
    "        # Remove whitespaces\n",
    "        dfName[colName] = dfName[colName].str.strip()\n",
    "        # Do this for numeric integer columns\n",
    "        if colName in numCols:\n",
    "            # When applicable, remove commas to have a type-cast-able string\n",
    "            dfName[colName] = dfName[colName].str.replace(',', '')\n",
    "            # The budget columns' data is missing for 5 movies, fill them with zeroes for now\n",
    "            dfName[colName] = dfName[colName].fillna(0)\n",
    "            # Type cast to int64\n",
    "            dfName[colName] = dfName[colName].astype('int64')\n",
    "        # Do this for percentage columns\n",
    "        elif colName in prcntCols:\n",
    "            # Remove suffix from specified columns\n",
    "            dfName[colName] = dfName[colName].str.rstrip(suffix)\n",
    "            # Type cast strings to floating numbers\n",
    "            dfName[colName] = dfName[colName].astype('float64')\n",
    "            \n",
    "clean_cols(df, str_cols, num_cols, prcnt_cols, \"%\")\n",
    "\n",
    "## Check data consistency\n",
    "# Verify if there's inconsistencies in the other columns\n",
    "print(\"NUMBER OF UNIQUE MOVIES: \", df.title.nunique())\n",
    "print(\"NUMBER OF MOVIES WITH DIFFERENT PROFIT: \", df.worldwide_gross.nunique())\n",
    "print(\"RATING CATEGORIES: \", df.rating.unique())\n",
    "\n",
    "# Check the length of the movies' decade column\n",
    "decade_len = df.decade.str.len()\n",
    "\n",
    "# See if all of them are the same length\n",
    "if decade_len.nunique() == 1 :\n",
    "    print(\"MOVIE DECADES ARE WRITTEN CONSISTENTLY.\")\n",
    "    # Now print the unique values\n",
    "    print(\"MOVIE DECADES: \", df.decade.unique(), \"\\n\")\n",
    "else:\n",
    "    print(\"THERE\\'S INCONSISTENCIES IN THE DECADE COLUMN FORMAT.\\n\")\n",
    "    \n",
    "# From the dataframe's info previously gathered, there seems to be duplicate movies (500 titles, but 495 unique)\n",
    "# Let's check for duplicate movies\n",
    "print(\"NUMBER OF \\'DUPLICATE\\' MOVIES: \", df.duplicated(subset = 'title').sum())\n",
    "\n",
    "# See if these duplicates were actually remakes:\n",
    "# First, change year to string so we can concatenate\n",
    "df['year'] = df['year'].astype('str')\n",
    "# Make new column including title and year\n",
    "df['title_year'] = df['title'] + \" (\" + df['year'] + \")\"\n",
    "# See if there's still duplicates (same movie and same year)\n",
    "print(\"NUMBER OF DUPLICATE MOVIES: \", df.duplicated(subset = 'title_year').sum(), \"\\n\")\n",
    "\n",
    "# Change year column back to int type\n",
    "df['year'] = df['year'].astype('int64')\n",
    "# Change running time to timedelta type to compare later\n",
    "df.duration = pd.to_timedelta(df.duration)\n",
    "\n",
    "# Remove redundant data columns and other ones we're not using\n",
    "df.drop(['title', 'year', 'budget_recovered_prcnt', 'domestic_gross', 'domestic_prcnt',\n",
    "         'foreign_gross', 'foreign_prcnt'], axis=1, inplace=True)\n",
    "\n",
    "# Place columns in desired position\n",
    "new_pos = ['rank', 'title_year', 'decade', 'worldwide_gross', 'budget', \n",
    "           'times_budget_recovered', 'duration','rating']\n",
    "df = df.reindex(columns = new_pos)\n",
    "\n",
    "# Create a function to convert amounts to millions, so it's easier to see in plot\n",
    "# Convert budget to millions\n",
    "cols_to_mils = ['worldwide_gross', 'budget']\n",
    "\n",
    "def to_millions(dfName, colsList):\n",
    "    for colName in colsList:\n",
    "        dfName[colName] = dfName[colName].div(1000000).round(1)\n",
    "        dfName.rename(columns = {colName: colName + \"_inM\"}, inplace=True)\n",
    "\n",
    "to_millions(df, cols_to_mils)\n",
    "\n",
    "print(df.info())\n",
    "\n",
    "# Delete unused variables\n",
    "del str_cols, num_cols, prcnt_cols, clean_cols, decade_len, new_pos, cols_to_mils, to_millions"
   ]
  },
  {
   "cell_type": "markdown",
   "id": "b668efb0",
   "metadata": {
    "papermill": {
     "duration": 0.006087,
     "end_time": "2024-02-22T01:22:37.536141",
     "exception": false,
     "start_time": "2024-02-22T01:22:37.530054",
     "status": "completed"
    },
    "tags": []
   },
   "source": [
    "## Analyze\n",
    "### Start analysis by **Decade**\n",
    "#### Do movies still make money in this decade?\n",
    "First, let's see which decade is the most popular. Grouping the years by decades will show us the data in a more comprehensible way."
   ]
  },
  {
   "cell_type": "code",
   "execution_count": 3,
   "id": "ea05b5b9",
   "metadata": {
    "_kg_hide-input": true,
    "execution": {
     "iopub.execute_input": "2024-02-22T01:22:37.550898Z",
     "iopub.status.busy": "2024-02-22T01:22:37.550473Z",
     "iopub.status.idle": "2024-02-22T01:22:38.128268Z",
     "shell.execute_reply": "2024-02-22T01:22:38.126761Z"
    },
    "papermill": {
     "duration": 0.588184,
     "end_time": "2024-02-22T01:22:38.131198",
     "exception": false,
     "start_time": "2024-02-22T01:22:37.543014",
     "status": "completed"
    },
    "tags": []
   },
   "outputs": [
    {
     "name": "stdout",
     "output_type": "stream",
     "text": [
      "TOP MOVIE DECADES:\n",
      "2010's    252\n",
      "2000's    126\n",
      "1990's     54\n",
      "2020's     49\n",
      "1980's     14\n",
      "1970's      4\n",
      "1930's      1\n",
      "Name: decade, dtype: int64 \n",
      "\n"
     ]
    },
    {
     "data": {
      "image/png": "[encoded data removed]",
      "text/plain": [
       "<Figure size 432x288 with 1 Axes>"
      ]
     },
     "metadata": {
      "needs_background": "light"
     },
     "output_type": "display_data"
    }
   ],
   "source": [
    "# Create caption for all plots\n",
    "caption_txt = \"Data collected by Box Office Mojo updated October 2023\"\n",
    "\n",
    "## BY DECADE ##\n",
    "print(\"TOP MOVIE DECADES:\")\n",
    "print(df.decade.value_counts(), \"\\n\")\n",
    "\n",
    "# Set an order for categorical column decade, so the plots’ columns appear in the same order all the time\n",
    "decade_order = ['1930\\'s', '1970\\'s', '1980\\'s', '1990\\'s', '2000\\'s', '2010\\'s', '2020\\'s']\n",
    "decade_ordered = CategoricalDtype(categories=decade_order, ordered=True)\n",
    "df.decade = df.decade.astype(decade_ordered)\n",
    "\n",
    "# Delete no longer used\n",
    "del decade_order, decade_ordered\n",
    "\n",
    "# Plot the number of blockbusters by decade\n",
    "plt.title('Box Office Hits by Decade')\n",
    "plt.xlabel('Decade')\n",
    "plt.ylabel('Number of Movies')\n",
    "sns.histplot(x=df.decade, hue=df.decade, palette='colorblind').axes.tick_params(labelrotation=45)\n",
    "plt.figtext(0.3, -0.12, caption_txt, ha=\"left\", fontsize=9)\n",
    "plt.show()"
   ]
  },
  {
   "cell_type": "markdown",
   "id": "1f00e269",
   "metadata": {
    "papermill": {
     "duration": 0.006916,
     "end_time": "2024-02-22T01:22:38.146010",
     "exception": false,
     "start_time": "2024-02-22T01:22:38.139094",
     "status": "completed"
    },
    "tags": []
   },
   "source": [
    "### Continue analysis by **worldwide gross profit**"
   ]
  },
  {
   "cell_type": "code",
   "execution_count": 4,
   "id": "cf9b3594",
   "metadata": {
    "_kg_hide-input": true,
    "execution": {
     "iopub.execute_input": "2024-02-22T01:22:38.163279Z",
     "iopub.status.busy": "2024-02-22T01:22:38.162854Z",
     "iopub.status.idle": "2024-02-22T01:22:38.190618Z",
     "shell.execute_reply": "2024-02-22T01:22:38.188754Z"
    },
    "papermill": {
     "duration": 0.039812,
     "end_time": "2024-02-22T01:22:38.193282",
     "exception": false,
     "start_time": "2024-02-22T01:22:38.153470",
     "status": "completed"
    },
    "tags": []
   },
   "outputs": [
    {
     "name": "stdout",
     "output_type": "stream",
     "text": [
      "MOVIES WITH MOST AND LEAST PROFIT FROM THIS LIST:\n"
     ]
    },
    {
     "data": {
      "text/html": [
       "<div>\n",
       "<style scoped>\n",
       "    .dataframe tbody tr th:only-of-type {\n",
       "        vertical-align: middle;\n",
       "    }\n",
       "\n",
       "    .dataframe tbody tr th {\n",
       "        vertical-align: top;\n",
       "    }\n",
       "\n",
       "    .dataframe thead th {\n",
       "        text-align: right;\n",
       "    }\n",
       "</style>\n",
       "<table border=\"1\" class=\"dataframe\">\n",
       "  <thead>\n",
       "    <tr style=\"text-align: right;\">\n",
       "      <th></th>\n",
       "      <th>rank</th>\n",
       "      <th>worldwide_gross_inM</th>\n",
       "    </tr>\n",
       "    <tr>\n",
       "      <th>title_year</th>\n",
       "      <th></th>\n",
       "      <th></th>\n",
       "    </tr>\n",
       "  </thead>\n",
       "  <tbody>\n",
       "    <tr>\n",
       "      <th>Avatar (2009)</th>\n",
       "      <td>1</td>\n",
       "      <td>2923.7</td>\n",
       "    </tr>\n",
       "    <tr>\n",
       "      <th>Avengers: Endgame (2019)</th>\n",
       "      <td>2</td>\n",
       "      <td>2799.4</td>\n",
       "    </tr>\n",
       "    <tr>\n",
       "      <th>Avatar: The Way of Water (2022)</th>\n",
       "      <td>3</td>\n",
       "      <td>2320.3</td>\n",
       "    </tr>\n",
       "    <tr>\n",
       "      <th>Titanic (1997)</th>\n",
       "      <td>4</td>\n",
       "      <td>2264.7</td>\n",
       "    </tr>\n",
       "    <tr>\n",
       "      <th>Star Wars: Episode VII - The Force Awakens (2015)</th>\n",
       "      <td>5</td>\n",
       "      <td>2071.3</td>\n",
       "    </tr>\n",
       "    <tr>\n",
       "      <th>...</th>\n",
       "      <td>...</td>\n",
       "      <td>...</td>\n",
       "    </tr>\n",
       "    <tr>\n",
       "      <th>Inglourious Basterds (2009)</th>\n",
       "      <td>496</td>\n",
       "      <td>321.5</td>\n",
       "    </tr>\n",
       "    <tr>\n",
       "      <th>101 Dalmatians (1996)</th>\n",
       "      <td>497</td>\n",
       "      <td>320.7</td>\n",
       "    </tr>\n",
       "    <tr>\n",
       "      <th>The Conjuring (2013)</th>\n",
       "      <td>498</td>\n",
       "      <td>320.4</td>\n",
       "    </tr>\n",
       "    <tr>\n",
       "      <th>Fatal Attraction (1987)</th>\n",
       "      <td>499</td>\n",
       "      <td>320.1</td>\n",
       "    </tr>\n",
       "    <tr>\n",
       "      <th>Sonic the Hedgehog (2020)</th>\n",
       "      <td>500</td>\n",
       "      <td>319.7</td>\n",
       "    </tr>\n",
       "  </tbody>\n",
       "</table>\n",
       "<p>500 rows × 2 columns</p>\n",
       "</div>"
      ],
      "text/plain": [
       "                                                   rank  worldwide_gross_inM\n",
       "title_year                                                                  \n",
       "Avatar (2009)                                         1               2923.7\n",
       "Avengers: Endgame (2019)                              2               2799.4\n",
       "Avatar: The Way of Water (2022)                       3               2320.3\n",
       "Titanic (1997)                                        4               2264.7\n",
       "Star Wars: Episode VII - The Force Awakens (2015)     5               2071.3\n",
       "...                                                 ...                  ...\n",
       "Inglourious Basterds (2009)                         496                321.5\n",
       "101 Dalmatians (1996)                               497                320.7\n",
       "The Conjuring (2013)                                498                320.4\n",
       "Fatal Attraction (1987)                             499                320.1\n",
       "Sonic the Hedgehog (2020)                           500                319.7\n",
       "\n",
       "[500 rows x 2 columns]"
      ]
     },
     "execution_count": 4,
     "metadata": {},
     "output_type": "execute_result"
    }
   ],
   "source": [
    "# Top movies with most money made in the box office globally\n",
    "df2 = df.sort_values(by = 'worldwide_gross_inM', ascending = False)\n",
    "df2.drop(['decade', 'budget_inM', 'times_budget_recovered', 'duration', 'rating'], axis=1, inplace=True)\n",
    "df2.set_index('title_year', inplace=True)\n",
    "print(\"MOVIES WITH MOST AND LEAST PROFIT FROM THIS LIST:\")\n",
    "df2"
   ]
  },
  {
   "cell_type": "code",
   "execution_count": 5,
   "id": "aefb628e",
   "metadata": {
    "_kg_hide-input": true,
    "execution": {
     "iopub.execute_input": "2024-02-22T01:22:38.212127Z",
     "iopub.status.busy": "2024-02-22T01:22:38.211687Z",
     "iopub.status.idle": "2024-02-22T01:22:38.564683Z",
     "shell.execute_reply": "2024-02-22T01:22:38.562797Z"
    },
    "papermill": {
     "duration": 0.366045,
     "end_time": "2024-02-22T01:22:38.567605",
     "exception": false,
     "start_time": "2024-02-22T01:22:38.201560",
     "status": "completed"
    },
    "tags": []
   },
   "outputs": [
    {
     "data": {
      "image/png": "[encoded data removed]",
      "text/plain": [
       "<Figure size 432x288 with 1 Axes>"
      ]
     },
     "metadata": {
      "needs_background": "light"
     },
     "output_type": "display_data"
    }
   ],
   "source": [
    "## BY WORLDWIDE PROFIT ##\n",
    "# Plot the movies' box office gross profit worldwide and their position in the ranking\n",
    "df2.plot(kind='scatter',x='rank', y = 'worldwide_gross_inM', color = '#ff7f00').set(\n",
    "title = 'Worldwide Gross Profit', xlabel='Position in Ranking', ylabel = 'Profit in Millions of Dollars')\n",
    "plt.figtext(0.3, -0.12, caption_txt, ha='left', fontsize=9)\n",
    "plt.show()\n",
    "\n",
    "del df2"
   ]
  },
  {
   "cell_type": "markdown",
   "id": "23c4647f",
   "metadata": {
    "papermill": {
     "duration": 0.008552,
     "end_time": "2024-02-22T01:22:38.584650",
     "exception": false,
     "start_time": "2024-02-22T01:22:38.576098",
     "status": "completed"
    },
    "tags": []
   },
   "source": [
    "### Then by **Budget**\n",
    "\n",
    "#### Does budget relate to box office success?"
   ]
  },
  {
   "cell_type": "code",
   "execution_count": 6,
   "id": "af4d51c8",
   "metadata": {
    "_kg_hide-input": true,
    "execution": {
     "iopub.execute_input": "2024-02-22T01:22:38.603895Z",
     "iopub.status.busy": "2024-02-22T01:22:38.603442Z",
     "iopub.status.idle": "2024-02-22T01:22:38.624023Z",
     "shell.execute_reply": "2024-02-22T01:22:38.622701Z"
    },
    "papermill": {
     "duration": 0.033978,
     "end_time": "2024-02-22T01:22:38.626557",
     "exception": false,
     "start_time": "2024-02-22T01:22:38.592579",
     "status": "completed"
    },
    "tags": []
   },
   "outputs": [
    {
     "data": {
      "text/html": [
       "<div>\n",
       "<style scoped>\n",
       "    .dataframe tbody tr th:only-of-type {\n",
       "        vertical-align: middle;\n",
       "    }\n",
       "\n",
       "    .dataframe tbody tr th {\n",
       "        vertical-align: top;\n",
       "    }\n",
       "\n",
       "    .dataframe thead th {\n",
       "        text-align: right;\n",
       "    }\n",
       "</style>\n",
       "<table border=\"1\" class=\"dataframe\">\n",
       "  <thead>\n",
       "    <tr style=\"text-align: right;\">\n",
       "      <th></th>\n",
       "      <th>rank</th>\n",
       "      <th>title_year</th>\n",
       "      <th>decade</th>\n",
       "      <th>worldwide_gross_inM</th>\n",
       "      <th>budget_inM</th>\n",
       "      <th>times_budget_recovered</th>\n",
       "      <th>duration</th>\n",
       "      <th>rating</th>\n",
       "    </tr>\n",
       "  </thead>\n",
       "  <tbody>\n",
       "    <tr>\n",
       "      <th>467</th>\n",
       "      <td>468</td>\n",
       "      <td>Never Say Die (2017)</td>\n",
       "      <td>2010's</td>\n",
       "      <td>334.5</td>\n",
       "      <td>0.0</td>\n",
       "      <td>NaN</td>\n",
       "      <td>0 days 01:40:00</td>\n",
       "      <td>NR</td>\n",
       "    </tr>\n",
       "    <tr>\n",
       "      <th>401</th>\n",
       "      <td>402</td>\n",
       "      <td>Hello Mr. Billionaire (2018)</td>\n",
       "      <td>2010's</td>\n",
       "      <td>367.0</td>\n",
       "      <td>0.0</td>\n",
       "      <td>NaN</td>\n",
       "      <td>0 days 01:58:00</td>\n",
       "      <td>NR</td>\n",
       "    </tr>\n",
       "    <tr>\n",
       "      <th>318</th>\n",
       "      <td>319</td>\n",
       "      <td>The Captain (2019)</td>\n",
       "      <td>2010's</td>\n",
       "      <td>417.3</td>\n",
       "      <td>0.0</td>\n",
       "      <td>NaN</td>\n",
       "      <td>0 days 01:51:00</td>\n",
       "      <td>NR</td>\n",
       "    </tr>\n",
       "    <tr>\n",
       "      <th>315</th>\n",
       "      <td>316</td>\n",
       "      <td>My People, My Homeland (2020)</td>\n",
       "      <td>2020's</td>\n",
       "      <td>422.4</td>\n",
       "      <td>0.0</td>\n",
       "      <td>NaN</td>\n",
       "      <td>0 days 02:33:00</td>\n",
       "      <td>NR</td>\n",
       "    </tr>\n",
       "    <tr>\n",
       "      <th>286</th>\n",
       "      <td>287</td>\n",
       "      <td>My People, My Country (2019)</td>\n",
       "      <td>2010's</td>\n",
       "      <td>450.1</td>\n",
       "      <td>0.0</td>\n",
       "      <td>NaN</td>\n",
       "      <td>0 days 02:34:00</td>\n",
       "      <td>NR</td>\n",
       "    </tr>\n",
       "  </tbody>\n",
       "</table>\n",
       "</div>"
      ],
      "text/plain": [
       "     rank                     title_year  decade  worldwide_gross_inM  \\\n",
       "467   468           Never Say Die (2017)  2010's                334.5   \n",
       "401   402   Hello Mr. Billionaire (2018)  2010's                367.0   \n",
       "318   319             The Captain (2019)  2010's                417.3   \n",
       "315   316  My People, My Homeland (2020)  2020's                422.4   \n",
       "286   287   My People, My Country (2019)  2010's                450.1   \n",
       "\n",
       "     budget_inM  times_budget_recovered        duration rating  \n",
       "467         0.0                     NaN 0 days 01:40:00     NR  \n",
       "401         0.0                     NaN 0 days 01:58:00     NR  \n",
       "318         0.0                     NaN 0 days 01:51:00     NR  \n",
       "315         0.0                     NaN 0 days 02:33:00     NR  \n",
       "286         0.0                     NaN 0 days 02:34:00     NR  "
      ]
     },
     "execution_count": 6,
     "metadata": {},
     "output_type": "execute_result"
    }
   ],
   "source": [
    "# This dataframe has five null values within the budget related columns. \n",
    "# Let's see which rows have those nulls and manage them.\n",
    "df.sort_values(by = 'budget_inM', ascending = True).head(5)\n",
    "\n",
    "# The budget had a value of zero on these movies, so the times_budget_recovered column had nulls. \n",
    "# Those zeroed-budgets were missing values that were not available for the public, \n",
    "# therefore I eliminated the rows with nulls since working with zeroes would give wrong results."
   ]
  },
  {
   "cell_type": "markdown",
   "id": "6ae0f7b5",
   "metadata": {
    "papermill": {
     "duration": 0.00809,
     "end_time": "2024-02-22T01:22:38.643008",
     "exception": false,
     "start_time": "2024-02-22T01:22:38.634918",
     "status": "completed"
    },
    "tags": []
   },
   "source": [
    "The budget on the previously displayed rows was zero, but they were actually missing values that were not available for the public, therefore the times_budget_recovered column had nulls. \n",
    "Next, I eliminated those rows since working with zeroes would give wrong results."
   ]
  },
  {
   "cell_type": "code",
   "execution_count": 7,
   "id": "db1bc537",
   "metadata": {
    "_kg_hide-input": true,
    "execution": {
     "iopub.execute_input": "2024-02-22T01:22:38.663228Z",
     "iopub.status.busy": "2024-02-22T01:22:38.662503Z",
     "iopub.status.idle": "2024-02-22T01:22:38.692246Z",
     "shell.execute_reply": "2024-02-22T01:22:38.690649Z"
    },
    "papermill": {
     "duration": 0.043259,
     "end_time": "2024-02-22T01:22:38.695179",
     "exception": false,
     "start_time": "2024-02-22T01:22:38.651920",
     "status": "completed"
    },
    "tags": []
   },
   "outputs": [
    {
     "name": "stdout",
     "output_type": "stream",
     "text": [
      "MOVIE BUDGET IN MILLIONS OF DOLLARS:\n",
      "count    495.0\n",
      "mean     123.6\n",
      "std       69.3\n",
      "min        3.8\n",
      "25%       75.0\n",
      "50%      120.0\n",
      "75%      170.0\n",
      "max      460.0\n",
      "Name: budget_inM, dtype: float64 \n",
      "\n",
      "MOVIES WITH MOST AND LEAST BUDGET FROM THIS LIST:\n"
     ]
    },
    {
     "data": {
      "text/html": [
       "<div>\n",
       "<style scoped>\n",
       "    .dataframe tbody tr th:only-of-type {\n",
       "        vertical-align: middle;\n",
       "    }\n",
       "\n",
       "    .dataframe tbody tr th {\n",
       "        vertical-align: top;\n",
       "    }\n",
       "\n",
       "    .dataframe thead th {\n",
       "        text-align: right;\n",
       "    }\n",
       "</style>\n",
       "<table border=\"1\" class=\"dataframe\">\n",
       "  <thead>\n",
       "    <tr style=\"text-align: right;\">\n",
       "      <th></th>\n",
       "      <th>worldwide_gross_inM</th>\n",
       "      <th>budget_inM</th>\n",
       "    </tr>\n",
       "    <tr>\n",
       "      <th>title_year</th>\n",
       "      <th></th>\n",
       "      <th></th>\n",
       "    </tr>\n",
       "  </thead>\n",
       "  <tbody>\n",
       "    <tr>\n",
       "      <th>Avatar: The Way of Water (2022)</th>\n",
       "      <td>2320.3</td>\n",
       "      <td>460.0</td>\n",
       "    </tr>\n",
       "    <tr>\n",
       "      <th>Avengers: Endgame (2019)</th>\n",
       "      <td>2799.4</td>\n",
       "      <td>356.0</td>\n",
       "    </tr>\n",
       "    <tr>\n",
       "      <th>Fast X (2023)</th>\n",
       "      <td>704.7</td>\n",
       "      <td>340.0</td>\n",
       "    </tr>\n",
       "    <tr>\n",
       "      <th>Star Wars: Episode VIII - The Last Jedi (2017)</th>\n",
       "      <td>1334.4</td>\n",
       "      <td>317.0</td>\n",
       "    </tr>\n",
       "    <tr>\n",
       "      <th>Indiana Jones and the Dial of Destiny (2023)</th>\n",
       "      <td>382.9</td>\n",
       "      <td>300.0</td>\n",
       "    </tr>\n",
       "    <tr>\n",
       "      <th>...</th>\n",
       "      <td>...</td>\n",
       "      <td>...</td>\n",
       "    </tr>\n",
       "    <tr>\n",
       "      <th>Jaws (1975)</th>\n",
       "      <td>476.5</td>\n",
       "      <td>7.0</td>\n",
       "    </tr>\n",
       "    <tr>\n",
       "      <th>Grease (1978)</th>\n",
       "      <td>396.3</td>\n",
       "      <td>6.0</td>\n",
       "    </tr>\n",
       "    <tr>\n",
       "      <th>Your Name. (2016)</th>\n",
       "      <td>382.2</td>\n",
       "      <td>5.1</td>\n",
       "    </tr>\n",
       "    <tr>\n",
       "      <th>My Big Fat Greek Wedding (2002)</th>\n",
       "      <td>368.7</td>\n",
       "      <td>5.0</td>\n",
       "    </tr>\n",
       "    <tr>\n",
       "      <th>Gone with the Wind (1939)</th>\n",
       "      <td>402.4</td>\n",
       "      <td>3.8</td>\n",
       "    </tr>\n",
       "  </tbody>\n",
       "</table>\n",
       "<p>495 rows × 2 columns</p>\n",
       "</div>"
      ],
      "text/plain": [
       "                                                worldwide_gross_inM  \\\n",
       "title_year                                                            \n",
       "Avatar: The Way of Water (2022)                              2320.3   \n",
       "Avengers: Endgame (2019)                                     2799.4   \n",
       "Fast X (2023)                                                 704.7   \n",
       "Star Wars: Episode VIII - The Last Jedi (2017)               1334.4   \n",
       "Indiana Jones and the Dial of Destiny (2023)                  382.9   \n",
       "...                                                             ...   \n",
       "Jaws (1975)                                                   476.5   \n",
       "Grease (1978)                                                 396.3   \n",
       "Your Name. (2016)                                             382.2   \n",
       "My Big Fat Greek Wedding (2002)                               368.7   \n",
       "Gone with the Wind (1939)                                     402.4   \n",
       "\n",
       "                                                budget_inM  \n",
       "title_year                                                  \n",
       "Avatar: The Way of Water (2022)                      460.0  \n",
       "Avengers: Endgame (2019)                             356.0  \n",
       "Fast X (2023)                                        340.0  \n",
       "Star Wars: Episode VIII - The Last Jedi (2017)       317.0  \n",
       "Indiana Jones and the Dial of Destiny (2023)         300.0  \n",
       "...                                                    ...  \n",
       "Jaws (1975)                                            7.0  \n",
       "Grease (1978)                                          6.0  \n",
       "Your Name. (2016)                                      5.1  \n",
       "My Big Fat Greek Wedding (2002)                        5.0  \n",
       "Gone with the Wind (1939)                              3.8  \n",
       "\n",
       "[495 rows x 2 columns]"
      ]
     },
     "execution_count": 7,
     "metadata": {},
     "output_type": "execute_result"
    }
   ],
   "source": [
    "# Create new dataframe for budget analysis and presentation\n",
    "df3 = df.sort_values(by = 'budget_inM', ascending= False)\n",
    "# Drop the rows with missing budget-related values\n",
    "df3.dropna(axis = 0, subset= ['times_budget_recovered'], inplace = True)\n",
    "# Drop columns unrelated to this analysis\n",
    "df3.drop(['rank', 'decade', 'times_budget_recovered', 'duration', 'rating'], axis=1, inplace=True)\n",
    "df3.set_index('title_year', inplace=True)\n",
    "\n",
    "# Max, min, and average budget\n",
    "print(\"MOVIE BUDGET IN MILLIONS OF DOLLARS:\")\n",
    "print(df3.budget_inM.describe().round(1), \"\\n\")\n",
    "# # median is the same as 50%\n",
    "print(\"MOVIES WITH MOST AND LEAST BUDGET FROM THIS LIST:\")\n",
    "df3"
   ]
  },
  {
   "cell_type": "code",
   "execution_count": 8,
   "id": "353523ae",
   "metadata": {
    "_kg_hide-input": true,
    "execution": {
     "iopub.execute_input": "2024-02-22T01:22:38.714359Z",
     "iopub.status.busy": "2024-02-22T01:22:38.713953Z",
     "iopub.status.idle": "2024-02-22T01:22:39.012936Z",
     "shell.execute_reply": "2024-02-22T01:22:39.011421Z"
    },
    "papermill": {
     "duration": 0.31187,
     "end_time": "2024-02-22T01:22:39.015927",
     "exception": false,
     "start_time": "2024-02-22T01:22:38.704057",
     "status": "completed"
    },
    "tags": []
   },
   "outputs": [
    {
     "data": {
      "image/png": "[encoded data removed]",
      "text/plain": [
       "<Figure size 432x288 with 1 Axes>"
      ]
     },
     "metadata": {
      "needs_background": "light"
     },
     "output_type": "display_data"
    }
   ],
   "source": [
    "## BY BUDGET ##\n",
    "# Plot the movies' box office gross profit worldwide and their budget\n",
    "sns.scatterplot(x=df3.budget_inM, y = df3.worldwide_gross_inM, color = '#984ea3').set(\n",
    "    title = 'Budget vs Worldwide Profit', xlabel='Budget in Millions of Dollars',\n",
    "    ylabel = 'Profit in Millions of Dollars')\n",
    "plt.figtext(0.3, -0.12, caption_txt, ha=\"left\", fontsize=9)\n",
    "plt.show()\n",
    "\n",
    "del df3"
   ]
  },
  {
   "cell_type": "markdown",
   "id": "5a0844c4",
   "metadata": {
    "papermill": {
     "duration": 0.009053,
     "end_time": "2024-02-22T01:22:39.034607",
     "exception": false,
     "start_time": "2024-02-22T01:22:39.025554",
     "status": "completed"
    },
    "tags": []
   },
   "source": [
    "### Get some insights by **times the budget was recovered**\n",
    "\n",
    "For this section, I also worked without the null rows that were related to the budget."
   ]
  },
  {
   "cell_type": "code",
   "execution_count": 9,
   "id": "683ac5fe",
   "metadata": {
    "_kg_hide-input": true,
    "execution": {
     "iopub.execute_input": "2024-02-22T01:22:39.055836Z",
     "iopub.status.busy": "2024-02-22T01:22:39.055379Z",
     "iopub.status.idle": "2024-02-22T01:22:39.080163Z",
     "shell.execute_reply": "2024-02-22T01:22:39.078700Z"
    },
    "papermill": {
     "duration": 0.038805,
     "end_time": "2024-02-22T01:22:39.083151",
     "exception": false,
     "start_time": "2024-02-22T01:22:39.044346",
     "status": "completed"
    },
    "tags": []
   },
   "outputs": [
    {
     "name": "stdout",
     "output_type": "stream",
     "text": [
      "MOVIES WITH MOST AND LEAST RETURN ON INVESTMENT FROM THIS LIST:\n"
     ]
    },
    {
     "data": {
      "text/html": [
       "<div>\n",
       "<style scoped>\n",
       "    .dataframe tbody tr th:only-of-type {\n",
       "        vertical-align: middle;\n",
       "    }\n",
       "\n",
       "    .dataframe tbody tr th {\n",
       "        vertical-align: top;\n",
       "    }\n",
       "\n",
       "    .dataframe thead th {\n",
       "        text-align: right;\n",
       "    }\n",
       "</style>\n",
       "<table border=\"1\" class=\"dataframe\">\n",
       "  <thead>\n",
       "    <tr style=\"text-align: right;\">\n",
       "      <th></th>\n",
       "      <th>budget_inM</th>\n",
       "      <th>times_budget_recovered</th>\n",
       "    </tr>\n",
       "    <tr>\n",
       "      <th>title_year</th>\n",
       "      <th></th>\n",
       "      <th></th>\n",
       "    </tr>\n",
       "  </thead>\n",
       "  <tbody>\n",
       "    <tr>\n",
       "      <th>Gone with the Wind (1939)</th>\n",
       "      <td>3.8</td>\n",
       "      <td>104.5</td>\n",
       "    </tr>\n",
       "    <tr>\n",
       "      <th>Your Name. (2016)</th>\n",
       "      <td>5.1</td>\n",
       "      <td>75.6</td>\n",
       "    </tr>\n",
       "    <tr>\n",
       "      <th>My Big Fat Greek Wedding (2002)</th>\n",
       "      <td>5.0</td>\n",
       "      <td>73.7</td>\n",
       "    </tr>\n",
       "    <tr>\n",
       "      <th>E.T. the Extra-Terrestrial (1982)</th>\n",
       "      <td>10.5</td>\n",
       "      <td>70.6</td>\n",
       "    </tr>\n",
       "    <tr>\n",
       "      <th>Jaws (1975)</th>\n",
       "      <td>7.0</td>\n",
       "      <td>68.1</td>\n",
       "    </tr>\n",
       "    <tr>\n",
       "      <th>...</th>\n",
       "      <td>...</td>\n",
       "      <td>...</td>\n",
       "    </tr>\n",
       "    <tr>\n",
       "      <th>A Christmas Carol (2009)</th>\n",
       "      <td>200.0</td>\n",
       "      <td>1.6</td>\n",
       "    </tr>\n",
       "    <tr>\n",
       "      <th>Robin Hood (2010)</th>\n",
       "      <td>200.0</td>\n",
       "      <td>1.6</td>\n",
       "    </tr>\n",
       "    <tr>\n",
       "      <th>Superman Returns (2006)</th>\n",
       "      <td>270.0</td>\n",
       "      <td>1.4</td>\n",
       "    </tr>\n",
       "    <tr>\n",
       "      <th>Solo: A Star Wars Story (2018)</th>\n",
       "      <td>275.0</td>\n",
       "      <td>1.4</td>\n",
       "    </tr>\n",
       "    <tr>\n",
       "      <th>Indiana Jones and the Dial of Destiny (2023)</th>\n",
       "      <td>300.0</td>\n",
       "      <td>1.3</td>\n",
       "    </tr>\n",
       "  </tbody>\n",
       "</table>\n",
       "<p>495 rows × 2 columns</p>\n",
       "</div>"
      ],
      "text/plain": [
       "                                              budget_inM  \\\n",
       "title_year                                                 \n",
       "Gone with the Wind (1939)                            3.8   \n",
       "Your Name. (2016)                                    5.1   \n",
       "My Big Fat Greek Wedding (2002)                      5.0   \n",
       "E.T. the Extra-Terrestrial (1982)                   10.5   \n",
       "Jaws (1975)                                          7.0   \n",
       "...                                                  ...   \n",
       "A Christmas Carol (2009)                           200.0   \n",
       "Robin Hood (2010)                                  200.0   \n",
       "Superman Returns (2006)                            270.0   \n",
       "Solo: A Star Wars Story (2018)                     275.0   \n",
       "Indiana Jones and the Dial of Destiny (2023)       300.0   \n",
       "\n",
       "                                              times_budget_recovered  \n",
       "title_year                                                            \n",
       "Gone with the Wind (1939)                                      104.5  \n",
       "Your Name. (2016)                                               75.6  \n",
       "My Big Fat Greek Wedding (2002)                                 73.7  \n",
       "E.T. the Extra-Terrestrial (1982)                               70.6  \n",
       "Jaws (1975)                                                     68.1  \n",
       "...                                                              ...  \n",
       "A Christmas Carol (2009)                                         1.6  \n",
       "Robin Hood (2010)                                                1.6  \n",
       "Superman Returns (2006)                                          1.4  \n",
       "Solo: A Star Wars Story (2018)                                   1.4  \n",
       "Indiana Jones and the Dial of Destiny (2023)                     1.3  \n",
       "\n",
       "[495 rows x 2 columns]"
      ]
     },
     "execution_count": 9,
     "metadata": {},
     "output_type": "execute_result"
    }
   ],
   "source": [
    "# Top movies with most times the budget was recovered.\n",
    "df4 = df.sort_values(by = 'times_budget_recovered', ascending = False)\n",
    "# Drop the rows with missing budget-related values\n",
    "df4.dropna(axis = 0, subset= ['times_budget_recovered'], inplace = True)\n",
    "# Drop unrelated columns\n",
    "df4.drop(['rank','decade', 'worldwide_gross_inM', 'duration', 'rating'], axis=1, inplace=True)\n",
    "df4.set_index('title_year', inplace=True)\n",
    "\n",
    "# # Max times budget recovered, min budget recovered, average budget recovered\n",
    "# print(\"TIMES THE MOVIES\\' BUDGET WAS RECOVERED:\")\n",
    "# print(df4.times_budget_recovered.describe().round(1))\n",
    "print(\"MOVIES WITH MOST AND LEAST RETURN ON INVESTMENT FROM THIS LIST:\")\n",
    "df4"
   ]
  },
  {
   "cell_type": "code",
   "execution_count": 10,
   "id": "251e8714",
   "metadata": {
    "_kg_hide-input": true,
    "execution": {
     "iopub.execute_input": "2024-02-22T01:22:39.105466Z",
     "iopub.status.busy": "2024-02-22T01:22:39.105052Z",
     "iopub.status.idle": "2024-02-22T01:22:39.404350Z",
     "shell.execute_reply": "2024-02-22T01:22:39.402985Z"
    },
    "papermill": {
     "duration": 0.314443,
     "end_time": "2024-02-22T01:22:39.408221",
     "exception": false,
     "start_time": "2024-02-22T01:22:39.093778",
     "status": "completed"
    },
    "tags": []
   },
   "outputs": [
    {
     "data": {
      "image/png": "[encoded data removed]",
      "text/plain": [
       "<Figure size 432x288 with 1 Axes>"
      ]
     },
     "metadata": {
      "needs_background": "light"
     },
     "output_type": "display_data"
    }
   ],
   "source": [
    "## BY RETURN ON INVESTMENT ##\n",
    "# Plot the movies' budget and the number of times their budget was recovered\n",
    "sns.scatterplot(x= df4.budget_inM, y = df4.times_budget_recovered, color = '#4daf4a').set(\n",
    "title = 'Return on Investment', xlabel ='Budget in Millions of Dollars', ylabel = 'Times Budget was Recovered')\n",
    "plt.figtext(0.3, -0.12, caption_txt, ha='left', fontsize=9)\n",
    "plt.show()\n",
    "\n",
    "del df4"
   ]
  },
  {
   "cell_type": "markdown",
   "id": "851fd45d",
   "metadata": {
    "papermill": {
     "duration": 0.011817,
     "end_time": "2024-02-22T01:22:39.432007",
     "exception": false,
     "start_time": "2024-02-22T01:22:39.420190",
     "status": "completed"
    },
    "tags": []
   },
   "source": [
    "### Check by **Duration**"
   ]
  },
  {
   "cell_type": "code",
   "execution_count": 11,
   "id": "485d6661",
   "metadata": {
    "_kg_hide-input": true,
    "execution": {
     "iopub.execute_input": "2024-02-22T01:22:39.456651Z",
     "iopub.status.busy": "2024-02-22T01:22:39.456164Z",
     "iopub.status.idle": "2024-02-22T01:22:39.479802Z",
     "shell.execute_reply": "2024-02-22T01:22:39.478306Z"
    },
    "papermill": {
     "duration": 0.039196,
     "end_time": "2024-02-22T01:22:39.482520",
     "exception": false,
     "start_time": "2024-02-22T01:22:39.443324",
     "status": "completed"
    },
    "tags": []
   },
   "outputs": [
    {
     "name": "stdout",
     "output_type": "stream",
     "text": [
      "MOVIE DURATION AVERAGE:  0 days 02:02:38.040000 \n",
      "\n"
     ]
    },
    {
     "data": {
      "text/html": [
       "<div>\n",
       "<style scoped>\n",
       "    .dataframe tbody tr th:only-of-type {\n",
       "        vertical-align: middle;\n",
       "    }\n",
       "\n",
       "    .dataframe tbody tr th {\n",
       "        vertical-align: top;\n",
       "    }\n",
       "\n",
       "    .dataframe thead th {\n",
       "        text-align: right;\n",
       "    }\n",
       "</style>\n",
       "<table border=\"1\" class=\"dataframe\">\n",
       "  <thead>\n",
       "    <tr style=\"text-align: right;\">\n",
       "      <th></th>\n",
       "      <th>duration</th>\n",
       "      <th>number_of_movies</th>\n",
       "    </tr>\n",
       "  </thead>\n",
       "  <tbody>\n",
       "    <tr>\n",
       "      <th>0</th>\n",
       "      <td>&lt;=1hr30min</td>\n",
       "      <td>30</td>\n",
       "    </tr>\n",
       "    <tr>\n",
       "      <th>1</th>\n",
       "      <td>&gt;1hr30min to 2hr</td>\n",
       "      <td>215</td>\n",
       "    </tr>\n",
       "    <tr>\n",
       "      <th>2</th>\n",
       "      <td>&gt;2hr to &lt;3hr</td>\n",
       "      <td>244</td>\n",
       "    </tr>\n",
       "    <tr>\n",
       "      <th>3</th>\n",
       "      <td>&gt;=3hr</td>\n",
       "      <td>11</td>\n",
       "    </tr>\n",
       "  </tbody>\n",
       "</table>\n",
       "</div>"
      ],
      "text/plain": [
       "           duration  number_of_movies\n",
       "0        <=1hr30min                30\n",
       "1  >1hr30min to 2hr               215\n",
       "2      >2hr to <3hr               244\n",
       "3             >=3hr                11"
      ]
     },
     "execution_count": 11,
     "metadata": {},
     "output_type": "execute_result"
    }
   ],
   "source": [
    "## BY DURATION ##\n",
    "print(\"MOVIE DURATION AVERAGE: \", df.duration.mean(), \"\\n\" )\n",
    "\n",
    "oneandhalf = (df['duration'] <= '0 days 01:30:00').sum()\n",
    "oneandhalfplus = ((df['duration'] > '0 days 01:30:00') & (df['duration'] <= '0 days 02:00:00')).sum()\n",
    "twoplus = ((df['duration'] > '0 days 02:00:00') & (df['duration'] < '0 days 03:00:00')).sum()\n",
    "threeplus = (df['duration'] >= '0 days 03:00:00').sum()\n",
    "\n",
    "data5 = {\n",
    "    'duration':['<=1hr30min', '>1hr30min to 2hr', '>2hr to <3hr', '>=3hr'],\n",
    "    'number_of_movies' : [oneandhalf,oneandhalfplus, twoplus, threeplus]\n",
    "}\n",
    "df5 = pd.DataFrame(data5)\n",
    "del oneandhalf, oneandhalfplus, twoplus, threeplus, data5\n",
    "df5"
   ]
  },
  {
   "cell_type": "code",
   "execution_count": 12,
   "id": "91d15e65",
   "metadata": {
    "_kg_hide-input": true,
    "execution": {
     "iopub.execute_input": "2024-02-22T01:22:39.507720Z",
     "iopub.status.busy": "2024-02-22T01:22:39.507185Z",
     "iopub.status.idle": "2024-02-22T01:22:39.801504Z",
     "shell.execute_reply": "2024-02-22T01:22:39.799999Z"
    },
    "papermill": {
     "duration": 0.310468,
     "end_time": "2024-02-22T01:22:39.804398",
     "exception": false,
     "start_time": "2024-02-22T01:22:39.493930",
     "status": "completed"
    },
    "tags": []
   },
   "outputs": [
    {
     "data": {
      "image/png": "[encoded data removed]",
      "text/plain": [
       "<Figure size 432x288 with 1 Axes>"
      ]
     },
     "metadata": {
      "needs_background": "light"
     },
     "output_type": "display_data"
    }
   ],
   "source": [
    "# Plot the number of blockbusters by duration\n",
    "plot5= sns.barplot(x=df5.duration, y=df5.number_of_movies, palette = 'colorblind')\n",
    "plot5.bar_label(plot5.containers[0])\n",
    "plot5.set(title='Box Office Hits by Duration', xlabel='Duration', ylabel='Number of Movies')\n",
    "plt.xticks(rotation=45)\n",
    "plt.figtext(0.3, -0.23, caption_txt, ha='left', fontsize=8.5)\n",
    "plt.show()\n",
    "\n",
    "del df5, plot5"
   ]
  },
  {
   "cell_type": "markdown",
   "id": "a9c428b4",
   "metadata": {
    "papermill": {
     "duration": 0.012309,
     "end_time": "2024-02-22T01:22:39.828411",
     "exception": false,
     "start_time": "2024-02-22T01:22:39.816102",
     "status": "completed"
    },
    "tags": []
   },
   "source": [
    "### Finally, by **Rating**"
   ]
  },
  {
   "cell_type": "code",
   "execution_count": 13,
   "id": "abd8ccc0",
   "metadata": {
    "_kg_hide-input": true,
    "execution": {
     "iopub.execute_input": "2024-02-22T01:22:39.855294Z",
     "iopub.status.busy": "2024-02-22T01:22:39.854856Z",
     "iopub.status.idle": "2024-02-22T01:22:40.294727Z",
     "shell.execute_reply": "2024-02-22T01:22:40.293157Z"
    },
    "papermill": {
     "duration": 0.457238,
     "end_time": "2024-02-22T01:22:40.297761",
     "exception": false,
     "start_time": "2024-02-22T01:22:39.840523",
     "status": "completed"
    },
    "tags": []
   },
   "outputs": [
    {
     "name": "stdout",
     "output_type": "stream",
     "text": [
      "NUMBER OF TOP MOVIES BY RATING:\n",
      "PG-13    253\n",
      "PG       132\n",
      "R         74\n",
      "G         22\n",
      "NR        19\n",
      "Name: rating, dtype: int64\n"
     ]
    },
    {
     "data": {
      "image/png": "[encoded data removed]",
      "text/plain": [
       "<Figure size 432x288 with 1 Axes>"
      ]
     },
     "metadata": {
      "needs_background": "light"
     },
     "output_type": "display_data"
    }
   ],
   "source": [
    "## BY RATING ##\n",
    "print(\"NUMBER OF TOP MOVIES BY RATING:\")\n",
    "print(df.rating.value_counts())\n",
    "\n",
    "# Create plot to see this more clearly\n",
    "rating_order = ['G', 'PG', 'PG-13', 'R', 'NR']\n",
    "rating_ordered = CategoricalDtype(categories = rating_order, ordered= True)\n",
    "df.rating = df.rating.astype(rating_ordered)\n",
    "del rating_order, rating_ordered\n",
    "\n",
    "# Plot the number of blockbusters by rating\n",
    "plt.title('Top Box Office Movies by Rating')\n",
    "plt.xlabel('Rating')\n",
    "plt.ylabel('Number of Movies')\n",
    "sns.histplot(x=df.rating, hue = df.rating, multiple = 'dodge', palette='colorblind').axes.tick_params(labelrotation=45)\n",
    "plt.figtext(0.3, -0.12, caption_txt, ha=\"left\", fontsize=9)\n",
    "plt.show()\n",
    "\n",
    "del df, caption_txt"
   ]
  },
  {
   "cell_type": "markdown",
   "id": "a481aff4",
   "metadata": {
    "papermill": {
     "duration": 0.012085,
     "end_time": "2024-02-22T01:22:40.324002",
     "exception": false,
     "start_time": "2024-02-22T01:22:40.311917",
     "status": "completed"
    },
    "tags": []
   },
   "source": [
    "## Share\n",
    "### Insights\n",
    "* The movies that made more money are mostly American action-fantasy movies.  \n",
    "* Some of the movies that did best in the box office had the biggest budgets, but there's no direct correlation.\n",
    "* The movies with least budget recovered their investment the most number of times.\n",
    "* The average duration of these movies is 2 hours 2 minutes.\n",
    "* The most popular movie rating is PG-13: the adolescent to adult audience enjoys watching movies in theaters.\n",
    "\n",
    "## Act\n",
    "### Recommendations\n",
    "\n",
    "From this analysis' data, it seems like these blockbusters have some characteristics in common. Investors should focus on the list mentioned on the insights.\n",
    "\n",
    "Although some of the movies that did best in the box office had the biggest budgets, a big budget does not guarantee a good result. The investment of these movies ranged from  3.8 millions to  460.0 millions of dollars, and from this list, the movies that recovered their budget the most number of times, were the movies in the lower budget range.\n",
    "\n",
    "### Next steps\n",
    "\n",
    "Stakeholders should take into account the recommendations, but it is advisable to study the ratings and the average duration of the movies that did not make it into the list, without discarding the possibility of these two factors just being the most popular in general.\n",
    "\n",
    "#### **Thank you** for taking the time to check out my analysis of this case study :) !"
   ]
  }
 ],
 "metadata": {
  "kaggle": {
   "accelerator": "none",
   "dataSources": [
    {
     "datasetId": 4319492,
     "sourceId": 7423869,
     "sourceType": "datasetVersion"
    }
   ],
   "dockerImageVersionId": 30635,
   "isGpuEnabled": false,
   "isInternetEnabled": true,
   "language": "python",
   "sourceType": "notebook"
  },
  "kernelspec": {
   "display_name": "Python 3",
   "language": "python",
   "name": "python3"
  },
  "language_info": {
   "codemirror_mode": {
    "name": "ipython",
    "version": 3
   },
   "file_extension": ".py",
   "mimetype": "text/x-python",
   "name": "python",
   "nbconvert_exporter": "python",
   "pygments_lexer": "ipython3",
   "version": "3.9.12"
  },
  "papermill": {
   "default_parameters": {},
   "duration": 11.147847,
   "end_time": "2024-02-22T01:22:41.061475",
   "environment_variables": {},
   "exception": null,
   "input_path": "__notebook__.ipynb",
   "output_path": "__notebook__.ipynb",
   "parameters": {},
   "start_time": "2024-02-22T01:22:29.913628",
   "version": "2.4.0"
  }
 },
 "nbformat": 4,
 "nbformat_minor": 5
}
